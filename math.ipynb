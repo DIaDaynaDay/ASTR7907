{
 "cells": [
  {
   "cell_type": "code",
   "execution_count": 1,
   "id": "4e57d307",
   "metadata": {},
   "outputs": [],
   "source": [
    "import numpy as np"
   ]
  },
  {
   "cell_type": "code",
   "execution_count": 5,
   "id": "f3364d11",
   "metadata": {},
   "outputs": [],
   "source": [
    "M_X = 12\n",
    "M_a = 4.00260325413\n",
    "M_Y = 15.99491461957\n",
    "M_b = 0\n",
    "mp = 1.67262192e-27\n",
    "c = 299792458\n",
    "JtEv = 6.242e18"
   ]
  },
  {
   "cell_type": "code",
   "execution_count": 8,
   "id": "8626fb58",
   "metadata": {},
   "outputs": [
    {
     "name": "stdout",
     "output_type": "stream",
     "text": [
      "7.214598607009885\n"
     ]
    }
   ],
   "source": [
    "Q = (M_X*mp + M_a*mp - M_Y*mp - M_b)*c**2*JtEv\n",
    "print(Q/1e6)"
   ]
  }
 ],
 "metadata": {
  "kernelspec": {
   "display_name": "Python 3 (ipykernel)",
   "language": "python",
   "name": "python3"
  },
  "language_info": {
   "codemirror_mode": {
    "name": "ipython",
    "version": 3
   },
   "file_extension": ".py",
   "mimetype": "text/x-python",
   "name": "python",
   "nbconvert_exporter": "python",
   "pygments_lexer": "ipython3",
   "version": "3.11.4"
  }
 },
 "nbformat": 4,
 "nbformat_minor": 5
}
